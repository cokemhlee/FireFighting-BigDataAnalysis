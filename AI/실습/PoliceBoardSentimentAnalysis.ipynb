{
  "cells": [
    {
      "cell_type": "code",
      "execution_count": null,
      "metadata": {
        "colab": {
          "base_uri": "https://localhost:8080/"
        },
        "id": "OvrvcfyL1txR",
        "outputId": "7494d1bd-a780-458d-a9d2-900705a52c34"
      },
      "outputs": [],
      "source": [
        "!pip install transformers"
      ]
    },
    {
      "cell_type": "code",
      "execution_count": null,
      "metadata": {
        "colab": {
          "base_uri": "https://localhost:8080/"
        },
        "id": "RQvkwM3B1sNp",
        "outputId": "b34055b0-a41d-48a2-f55d-f1a5b3c8809d"
      },
      "outputs": [],
      "source": [
        "from transformers import pipeline\n",
        "classifier = pipeline(\"text-classification\", model=\"matthewburke/korean_sentiment\")\n",
        "custom_tweet = \"영화 재밌다.\"\n",
        "preds = classifier(custom_tweet,return_all_scores=True)\n",
        "print(preds)\n",
        "is_positive = preds[0][1]['score'] > 0.5"
      ]
    },
    {
      "cell_type": "code",
      "execution_count": null,
      "metadata": {
        "colab": {
          "base_uri": "https://localhost:8080/"
        },
        "id": "S4YJCuFt16cA",
        "outputId": "53c57941-21bf-4d60-c869-ecd89eeaaf89"
      },
      "outputs": [],
      "source": [
        "print(is_positive)"
      ]
    },
    {
      "cell_type": "code",
      "execution_count": null,
      "metadata": {
        "colab": {
          "base_uri": "https://localhost:8080/",
          "height": 423
        },
        "id": "bUrN1Omf26P5",
        "outputId": "653e8261-2cbc-4a52-fff2-ffe488a12070"
      },
      "outputs": [],
      "source": [
        "import pandas as pd\n",
        "\n",
        "df = pd.read_excel('/content/경찰청 민원게시판.xlsx')\n",
        "df"
      ]
    },
    {
      "cell_type": "code",
      "execution_count": null,
      "metadata": {
        "id": "iDix4Mc44ZHh"
      },
      "outputs": [],
      "source": [
        "def sentiment(text):\n",
        "    preds = classifier(text[:512],return_all_scores=True)\n",
        "    print(preds)\n",
        "    if (preds[0][1]['score'] > 0.5):\n",
        "        return '긍정'\n",
        "    else:\n",
        "        return '부정'"
      ]
    },
    {
      "cell_type": "code",
      "execution_count": null,
      "metadata": {
        "colab": {
          "base_uri": "https://localhost:8080/",
          "height": 91
        },
        "id": "z8IapZWi38gy",
        "outputId": "b2e8c070-b8a9-496d-8911-8b2fbc8ffd3f"
      },
      "outputs": [],
      "source": [
        "sentiment(df.loc[0,'Text'])"
      ]
    },
    {
      "cell_type": "code",
      "execution_count": null,
      "metadata": {
        "colab": {
          "base_uri": "https://localhost:8080/"
        },
        "id": "LJaYdAel41Ka",
        "outputId": "02193f17-69de-40b9-d4ba-eb5c250fe663"
      },
      "outputs": [],
      "source": [
        "df['Sentiment'] = df['Text'].apply(sentiment)"
      ]
    },
    {
      "cell_type": "code",
      "execution_count": null,
      "metadata": {
        "colab": {
          "base_uri": "https://localhost:8080/",
          "height": 423
        },
        "id": "JskWXn9g5_lC",
        "outputId": "173b98b7-ad67-4a76-de7c-72855c7d9893"
      },
      "outputs": [],
      "source": [
        "df"
      ]
    },
    {
      "cell_type": "code",
      "execution_count": null,
      "metadata": {
        "colab": {
          "base_uri": "https://localhost:8080/"
        },
        "id": "LEhxsHoR9K56",
        "outputId": "bd8ff98f-b869-4818-e1cf-431110d200a6"
      },
      "outputs": [],
      "source": [
        "df['Sentiment'].value_counts()"
      ]
    },
    {
      "cell_type": "code",
      "execution_count": null,
      "metadata": {
        "colab": {
          "base_uri": "https://localhost:8080/",
          "height": 394
        },
        "id": "dZRE7jX69S-D",
        "outputId": "f9c1d36e-f1e1-4a7b-ed40-f9d503441651"
      },
      "outputs": [],
      "source": [
        "df[df['Sentiment']=='긍정']"
      ]
    },
    {
      "cell_type": "code",
      "execution_count": null,
      "metadata": {
        "id": "UCd92xEb-KvE"
      },
      "outputs": [],
      "source": []
    }
  ],
  "metadata": {
    "colab": {
      "provenance": []
    },
    "kernelspec": {
      "display_name": "Python 3",
      "name": "python3"
    },
    "language_info": {
      "name": "python"
    }
  },
  "nbformat": 4,
  "nbformat_minor": 0
}
