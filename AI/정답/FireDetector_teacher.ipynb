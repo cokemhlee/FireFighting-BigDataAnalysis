{
  "cells": [
    {
      "cell_type": "code",
      "execution_count": null,
      "metadata": {
        "id": "JYgOWFeIpmTQ"
      },
      "outputs": [],
      "source": [
        "# Kaggle API 라이브러리 인스톨\n",
        "! pip install -q kaggle"
      ]
    },
    {
      "cell_type": "code",
      "execution_count": null,
      "metadata": {
        "colab": {
          "base_uri": "https://localhost:8080/",
          "height": 486
        },
        "id": "XiP_3O-fpyXe",
        "outputId": "1dba707c-c521-4cce-beb2-557337f55ea7"
      },
      "outputs": [],
      "source": [
        "# Kaggle API 호출을 위한 API Key 업로드\n",
        "from google.colab import files\n",
        "files.upload()\n",
        "! mkdir ~/.kaggle\n",
        "! cp kaggle.json ~/.kaggle/\n",
        "! chmod 600 ~/.kaggle/kaggle.json\n",
        "! kaggle datasets list"
      ]
    },
    {
      "cell_type": "code",
      "execution_count": null,
      "metadata": {
        "colab": {
          "base_uri": "https://localhost:8080/"
        },
        "id": "4nqhuI56p9xG",
        "outputId": "e4920508-ac10-4a91-bc71-bbc2458fb1dc"
      },
      "outputs": [],
      "source": [
        "# 학습 데이터 다운로드 및 압축풀기\n",
        "\n",
        "! kaggle datasets download -d phylake1337/fire-dataset\n",
        "! unzip fire-dataset.zip"
      ]
    },
    {
      "cell_type": "code",
      "execution_count": null,
      "metadata": {
        "id": "PkXTKGPpsG8O"
      },
      "outputs": [],
      "source": [
        "import numpy as np\n",
        "import pandas as pd\n",
        "import seaborn as sns\n",
        "\n",
        "import plotly.express as px\n",
        "import plotly.graph_objects as go\n",
        "from plotly.subplots import make_subplots\n",
        "\n",
        "import tensorflow as tf\n",
        "from tensorflow.keras.preprocessing import image\n",
        "\n",
        "sns.set_style('darkgrid')"
      ]
    },
    {
      "cell_type": "code",
      "execution_count": null,
      "metadata": {
        "colab": {
          "base_uri": "https://localhost:8080/",
          "height": 363
        },
        "id": "Inm1fsTQsONG",
        "outputId": "5e72ecb9-2f5e-44c7-982c-11716d919533"
      },
      "outputs": [],
      "source": [
        "# 데이터 프레임 만들기 (파일 위치, 레이블)\n",
        "\n",
        "import pandas as pd\n",
        "import os\n",
        "\n",
        "# 빈 데이터프레임 생성\n",
        "df = pd.DataFrame(columns=['path','label'])\n",
        "\n",
        "# fire 이미지와 레이블 'fire'\n",
        "for dirname, _, filenames in os.walk('/content/fire_dataset/fire_images'):\n",
        "    for filename in filenames:\n",
        "        #print(os.path.join(dirname, filename))\n",
        "        df = df.append(pd.DataFrame([[os.path.join(dirname, filename),'fire']],columns=['path','label']))\n",
        "\n",
        "# non-fire 이미지와 레이블 'non_file'\n",
        "for dirname, _, filenames in os.walk('/content/fire_dataset/non_fire_images'):\n",
        "    for filename in filenames:\n",
        "        df = df.append(pd.DataFrame([[os.path.join(dirname, filename),'non_fire']],columns=['path','label']))\n",
        "        #print(os.path.join(dirname, filename))\n",
        "\n",
        "# 학습을 위한 데이터 섞기\n",
        "df = df.sample(frac=1).reset_index(drop=True)\n",
        "df.head(10)"
      ]
    },
    {
      "cell_type": "code",
      "execution_count": null,
      "metadata": {
        "colab": {
          "base_uri": "https://localhost:8080/",
          "height": 299
        },
        "id": "iI09gMmYs-WG",
        "outputId": "7498b4fb-2eb7-494b-ef4e-977367040108"
      },
      "outputs": [],
      "source": [
        "# 데이터 비율 확인\n",
        "import seaborn as sns\n",
        "sns.countplot(data=df, x='label', order=['fire','non_fire'])"
      ]
    },
    {
      "cell_type": "code",
      "execution_count": null,
      "metadata": {
        "colab": {
          "base_uri": "https://localhost:8080/",
          "height": 954
        },
        "id": "A2LG4YwS3fjk",
        "outputId": "911a92d9-765c-433d-83f5-c304ed2ebc02"
      },
      "outputs": [],
      "source": [
        "# fire 이미지 샘플 확인\n",
        "import matplotlib.pyplot as plt\n",
        "\n",
        "label = 'fire'\n",
        "data = df[df['label'] == label]\n",
        "#sns.set_style('dark')\n",
        "\n",
        "pics = 6 # 샘플 갯수\n",
        "fig,ax = plt.subplots(int(pics//2),2,figsize=(15,15))\n",
        "plt.suptitle('Images with Fire')\n",
        "ax = ax.ravel()\n",
        "for i in range((pics//2)*2):\n",
        "    path = data.sample(1).loc[:,'path'].to_numpy()[0]\n",
        "    img = image.load_img(path)\n",
        "    img = image.img_to_array(img)/255\n",
        "    ax[i].imshow(img)\n",
        "    ax[i].axes.xaxis.set_visible(False)\n",
        "    ax[i].axes.yaxis.set_visible(False)"
      ]
    },
    {
      "cell_type": "code",
      "execution_count": null,
      "metadata": {
        "colab": {
          "base_uri": "https://localhost:8080/",
          "height": 954
        },
        "id": "izV0cAxO3txp",
        "outputId": "786a5a19-0f75-4aa2-e461-e3a5e9a3db6e"
      },
      "outputs": [],
      "source": [
        "# non-fire 이미지 샘플 확인\n",
        "\n",
        "label = 'non_fire'\n",
        "data = df[df['label'] == label]\n",
        "#sns.set_style('dark')\n",
        "\n",
        "pics = 6 # 샘플 갯수\n",
        "fig,ax = plt.subplots(int(pics//2),2,figsize=(15,15))\n",
        "plt.suptitle('Images with Fire')\n",
        "ax = ax.ravel()\n",
        "for i in range((pics//2)*2):\n",
        "    path = data.sample(1).loc[:,'path'].to_numpy()[0]\n",
        "    img = image.load_img(path)\n",
        "    img = image.img_to_array(img)/255\n",
        "    ax[i].imshow(img)\n",
        "    ax[i].axes.xaxis.set_visible(False)\n",
        "    ax[i].axes.yaxis.set_visible(False)"
      ]
    },
    {
      "cell_type": "markdown",
      "metadata": {
        "id": "SJN59P2w5jPa"
      },
      "source": [
        "# 이미지 크기 조정 필요"
      ]
    },
    {
      "cell_type": "code",
      "execution_count": null,
      "metadata": {
        "id": "L8J-f7Z6HOEt"
      },
      "outputs": [],
      "source": [
        "# 데이터 증강 (Augmentation)\n",
        "\n",
        "from tensorflow.keras.preprocessing.image import ImageDataGenerator\n",
        "\n",
        "generator = ImageDataGenerator(\n",
        "    rotation_range= 20,\n",
        "    width_shift_range=0.1,\n",
        "    height_shift_range=0.1,\n",
        "    shear_range = 2,\n",
        "    zoom_range=0.2,\n",
        "    rescale = 1/255,\n",
        "    validation_split=0.2,\n",
        ")\n"
      ]
    },
    {
      "cell_type": "code",
      "execution_count": null,
      "metadata": {
        "colab": {
          "base_uri": "https://localhost:8080/"
        },
        "id": "qmpWG0-mKm9v",
        "outputId": "415db180-b8aa-4fc6-fdfc-1835b00d9958"
      },
      "outputs": [],
      "source": [
        "# 학습 집합과 검증 집합 생성\n",
        "# ImageDataGenerator가 자동으로 레이블을 인코딩\n",
        "train_gen = generator.flow_from_dataframe(df,x_col='path',y_col='label',images_size=(256,256),class_mode='binary',subset='training')\n",
        "val_gen = generator.flow_from_dataframe(df,x_col='path',y_col='label',images_size=(256,256),class_mode='binary',subset='validation')"
      ]
    },
    {
      "cell_type": "code",
      "execution_count": null,
      "metadata": {
        "colab": {
          "base_uri": "https://localhost:8080/"
        },
        "id": "Y1Q2CLMMKpfH",
        "outputId": "cdf610e0-595d-4cda-9a96-2fb461842239"
      },
      "outputs": [],
      "source": [
        "# ImageDataGenerator가 생성한 레이블 확인\n",
        "\n",
        "class_indices = {}\n",
        "for key in train_gen.class_indices.keys():\n",
        "    class_indices[train_gen.class_indices[key]] = key\n",
        "\n",
        "print(class_indices)"
      ]
    },
    {
      "cell_type": "code",
      "execution_count": null,
      "metadata": {
        "colab": {
          "base_uri": "https://localhost:8080/",
          "height": 954
        },
        "id": "c_QwoILCLdKm",
        "outputId": "f61d3d57-ac4d-4b3a-9c6b-2fbea9b9d434"
      },
      "outputs": [],
      "source": [
        "# ImageDataGenerator가 생성한 이미지 확인\n",
        "\n",
        "pics = 6 # 샘플 갯수\n",
        "fig,ax = plt.subplots(int(pics//2),2,figsize=(15,15))\n",
        "plt.suptitle('Generated images in training set')\n",
        "ax = ax.ravel()\n",
        "for i in range((pics//2)*2):\n",
        "    ax[i].imshow(train_gen[0][0][i])\n",
        "    ax[i].axes.xaxis.set_visible(False)\n",
        "    ax[i].axes.yaxis.set_visible(False)"
      ]
    },
    {
      "cell_type": "code",
      "execution_count": null,
      "metadata": {
        "id": "LoQHjxyvLsfl"
      },
      "outputs": [],
      "source": [
        "# 모델 정의\n",
        "\n",
        "from tensorflow.keras.models import Sequential\n",
        "from tensorflow.keras.layers import Conv2D, MaxPool2D, Flatten, Dense\n",
        "\n",
        "model = Sequential()\n",
        "model.add(Conv2D(filters=32,kernel_size = (2,2),activation='relu',input_shape = (256,256,3)))  #왜 3일까요?\n",
        "model.add(MaxPool2D())\n",
        "model.add(Conv2D(filters=64,kernel_size=(2,2),activation='relu'))\n",
        "model.add(MaxPool2D())\n",
        "model.add(Conv2D(filters=128,kernel_size=(2,2),activation='relu'))\n",
        "model.add(MaxPool2D())\n",
        "model.add(Flatten())\n",
        "model.add(Dense(64,activation='relu'))\n",
        "model.add(Dense(32,activation = 'relu'))\n",
        "model.add(Dense(1,activation = 'sigmoid')) #왜 sigmoid일까요?\n",
        "\n",
        "# 앞 부분에는 노이즈가 많으므로 적은 필터를 사용하고 깊은 층으로 갈수록 더 많은 특징을 추출하기 위해 필터 수를 늘입니다."
      ]
    },
    {
      "cell_type": "code",
      "execution_count": null,
      "metadata": {
        "colab": {
          "base_uri": "https://localhost:8080/"
        },
        "id": "j9Ue4LJ9M73O",
        "outputId": "8dfdef79-98af-4ac5-8b0e-ee6d6f25ce98"
      },
      "outputs": [],
      "source": [
        "# 모델 구조 요약\n",
        "\n",
        "model.summary()"
      ]
    },
    {
      "cell_type": "code",
      "execution_count": null,
      "metadata": {
        "id": "Xj2RL9elM_I9"
      },
      "outputs": [],
      "source": [
        "# 모델 컴파일\n",
        "\n",
        "from tensorflow.keras.metrics import Recall,AUC\n",
        "from tensorflow.keras.utils import plot_model\n",
        "\n",
        "model.compile(optimizer='adam',loss='binary_crossentropy',metrics=['accuracy',Recall(),AUC()]) # 왜 binary_crossentrophy 일까요?  # 왜 Recall이 중요할까요?"
      ]
    },
    {
      "cell_type": "code",
      "execution_count": null,
      "metadata": {
        "id": "K6ljKLaiNGh2"
      },
      "outputs": [],
      "source": [
        "# 조기종료 적용\n",
        "\n",
        "from tensorflow.keras.callbacks import EarlyStopping, ReduceLROnPlateau\n",
        "\n",
        "early_stoppping = EarlyStopping(monitor='val_loss',patience=5,restore_best_weights=True)"
      ]
    },
    {
      "cell_type": "code",
      "execution_count": null,
      "metadata": {
        "id": "mn9vIOEwHl1j"
      },
      "outputs": [],
      "source": [
        "class_weight={0:0.3, 1:1.}"
      ]
    },
    {
      "cell_type": "code",
      "execution_count": null,
      "metadata": {
        "colab": {
          "base_uri": "https://localhost:8080/"
        },
        "id": "MQj-5CZmP5MV",
        "outputId": "f287294b-9b1b-4127-fd8b-f5833de7b68a"
      },
      "outputs": [],
      "source": [
        "# 학습\n",
        "model.fit(x=train_gen,batch_size=32,epochs=5,validation_data=val_gen,callbacks=[early_stoppping], class_weight=class_weight)"
      ]
    },
    {
      "cell_type": "code",
      "execution_count": null,
      "metadata": {
        "colab": {
          "base_uri": "https://localhost:8080/",
          "height": 542
        },
        "id": "HMGa6zbtQAKV",
        "outputId": "71cb3c35-29f8-4a96-dcbf-0a2a2b3bb6e2"
      },
      "outputs": [],
      "source": [
        "# 학습 그래프 보기\n",
        "\n",
        "history= model.history.history\n",
        "px.line(history,title = \"Metrics Plot\")"
      ]
    },
    {
      "cell_type": "code",
      "execution_count": null,
      "metadata": {
        "colab": {
          "base_uri": "https://localhost:8080/"
        },
        "id": "LZiQuCqGQcpe",
        "outputId": "c2a9c507-ff1b-4ec1-e16c-0c4dbd4b1452"
      },
      "outputs": [],
      "source": [
        "# 모델 평가\n",
        "eval_list = model.evaluate(val_gen,return_dict=True)\n",
        "for metric in eval_list.keys():\n",
        "    print(metric+f\": {eval_list[metric]:.2f}\")\n",
        "\n",
        "# 잘한 것일까요?"
      ]
    },
    {
      "cell_type": "markdown",
      "metadata": {
        "id": "VTwmXk00Q6s9"
      },
      "source": [
        "직접 모델을 개발하는 대신 누군가가 만들어 놓은 사전학습 모델을 사용해 봅시다."
      ]
    },
    {
      "cell_type": "code",
      "execution_count": null,
      "metadata": {
        "colab": {
          "base_uri": "https://localhost:8080/"
        },
        "id": "w39UTOuERCH7",
        "outputId": "0ec356eb-251d-477e-af58-4cd3995fb7dd"
      },
      "outputs": [],
      "source": [
        "from tensorflow.keras.applications import Xception\n",
        "from tensorflow.keras.models import Model\n",
        "from tensorflow.keras.layers import Dropout\n",
        "\n",
        "\n",
        "# 사전학습 모델 다운로드 및 산불화재탐지 모델 정의\n",
        "xception = Xception(include_top = False,input_shape = (256,256,3))\n",
        "input_to_model = xception.input\n",
        "#turn off training\n",
        "xception.trainable = False\n",
        "\n",
        "x = Flatten()(xception.output)\n",
        "x = Dense(64,activation = 'relu')(x)\n",
        "output_to_model = Dense(1,activation = 'sigmoid')(x)\n",
        "model2 = Model(inputs = input_to_model,outputs = output_to_model)"
      ]
    },
    {
      "cell_type": "code",
      "execution_count": null,
      "metadata": {
        "colab": {
          "base_uri": "https://localhost:8080/"
        },
        "id": "iXhaKbIe1Jnm",
        "outputId": "06d38e3b-4ca5-482d-e015-610b5852ce0c"
      },
      "outputs": [],
      "source": [
        "model2.summary()"
      ]
    },
    {
      "cell_type": "code",
      "execution_count": null,
      "metadata": {
        "id": "N_fqPpW6RgH7"
      },
      "outputs": [],
      "source": [
        "# 모델 컴파일\n",
        "\n",
        "model2.compile(optimizer = 'adam',loss = 'binary_crossentropy',metrics = ['accuracy',Recall(),AUC()])"
      ]
    },
    {
      "cell_type": "code",
      "execution_count": null,
      "metadata": {
        "colab": {
          "base_uri": "https://localhost:8080/"
        },
        "id": "muziRhgRRskc",
        "outputId": "715d70fb-d5d8-4d74-f679-230300b34883"
      },
      "outputs": [],
      "source": [
        "# 학습\n",
        "history2 = model2.fit(x = train_gen,batch_size=32,epochs=5,callbacks = [early_stoppping],validation_data = val_gen, class_weight=class_weight)\n"
      ]
    },
    {
      "cell_type": "code",
      "execution_count": null,
      "metadata": {
        "colab": {
          "base_uri": "https://localhost:8080/",
          "height": 542
        },
        "id": "DnO1AeipRyRc",
        "outputId": "ffcad23a-7ecb-4cc2-fff1-84aeeb1db916"
      },
      "outputs": [],
      "source": [
        "# 학습 그래프 보기\n",
        "\n",
        "history= model2.history.history\n",
        "px.line(history,title='Metrics Plot')"
      ]
    },
    {
      "cell_type": "code",
      "execution_count": null,
      "metadata": {
        "colab": {
          "base_uri": "https://localhost:8080/"
        },
        "id": "O7XYFrN8R6is",
        "outputId": "dd0afdba-2bff-4eb4-c5b5-e5d369994ba9"
      },
      "outputs": [],
      "source": [
        "# 모델 평가\n",
        "\n",
        "eval_list = model2.evaluate(val_gen,return_dict=True)\n",
        "for metric in eval_list.keys():\n",
        "    print(metric+f\": {eval_list[metric]:.2f}\")"
      ]
    },
    {
      "cell_type": "markdown",
      "metadata": {
        "id": "RolSJD8nL-tM"
      },
      "source": []
    },
    {
      "cell_type": "markdown",
      "metadata": {
        "id": "lbI_p8_nSBnU"
      },
      "source": [
        "학습된 모델로 인터넷에서 다운로드 받은 사진을 탐지해 봅시다."
      ]
    },
    {
      "cell_type": "code",
      "execution_count": null,
      "metadata": {
        "colab": {
          "base_uri": "https://localhost:8080/"
        },
        "id": "okVsfG8MSyIM",
        "outputId": "75edde71-d95e-4086-f12f-d94280d48bdd"
      },
      "outputs": [],
      "source": [
        "# 이미지 다운로드\n",
        "#!curl https://static01.nyt.com/images/2021/02/19/world/19storm-briefing-texas-fire/19storm-briefing-texas-fire-articleLarge.jpg --output predict.jpg\n",
        "#!curl https://transcode-v2.app.engoo.com/image/fetch/f_auto,c_limit,w_1280,h_800,dpr_2/https://assets.app.engoo.com/images/6b7V4hOYczy7ODsXQtkVAg.jpeg --output predict.jpg\n",
        "!curl https://img.seoul.co.kr/img/upload/2020/07/01/SSI_20200701210037.jpg --output predict.jpg"
      ]
    },
    {
      "cell_type": "code",
      "execution_count": null,
      "metadata": {
        "colab": {
          "base_uri": "https://localhost:8080/",
          "height": 403
        },
        "id": "1ZTr5SIqTIbU",
        "outputId": "4a4694ad-8f95-4171-832e-8dab3e1796c0"
      },
      "outputs": [],
      "source": [
        "# 다운로드 이미지 확인\n",
        "img = image.load_img('predict.jpg')\n",
        "img"
      ]
    },
    {
      "cell_type": "code",
      "execution_count": null,
      "metadata": {
        "colab": {
          "base_uri": "https://localhost:8080/"
        },
        "id": "9GOS92QETLrE",
        "outputId": "2115e8e1-bd3f-45e6-f627-b0d86bdb0c75"
      },
      "outputs": [],
      "source": [
        "# 이미지를 모델에 입력형태로 변환\n",
        "\n",
        "img = image.img_to_array(img)/255\n",
        "img = tf.image.resize(img,(256,256))\n",
        "img = tf.expand_dims(img,axis=0)\n",
        "\n",
        "print(\"Image Shape\",img.shape)"
      ]
    },
    {
      "cell_type": "code",
      "execution_count": null,
      "metadata": {
        "colab": {
          "base_uri": "https://localhost:8080/"
        },
        "id": "2u3zhyPRTQ73",
        "outputId": "65acadfc-a7eb-4614-976b-daeba186522b"
      },
      "outputs": [],
      "source": [
        "# 예측 및 결과 확인\n",
        "prediction = int(tf.round(model.predict(x=img)).numpy()[0][0])\n",
        "print(\"The predicted value is: \",prediction,\"and the predicted label is:\",class_indices[prediction])"
      ]
    }
  ],
  "metadata": {
    "accelerator": "GPU",
    "colab": {
      "provenance": []
    },
    "gpuClass": "standard",
    "kernelspec": {
      "display_name": "Python 3",
      "name": "python3"
    },
    "language_info": {
      "name": "python"
    }
  },
  "nbformat": 4,
  "nbformat_minor": 0
}
